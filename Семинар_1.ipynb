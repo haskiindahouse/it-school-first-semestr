{
  "nbformat": 4,
  "nbformat_minor": 0,
  "metadata": {
    "colab": {
      "name": "Семинар 1.ipynb",
      "provenance": [],
      "authorship_tag": "ABX9TyMny4betgA41ZCla9AzApij",
      "include_colab_link": true
    },
    "kernelspec": {
      "name": "python3",
      "display_name": "Python 3"
    },
    "language_info": {
      "name": "python"
    }
  },
  "cells": [
    {
      "cell_type": "markdown",
      "metadata": {
        "id": "view-in-github",
        "colab_type": "text"
      },
      "source": [
        "<a href=\"https://colab.research.google.com/github/haskiindahouse/it-school-first-semestr/blob/main/%D0%A1%D0%B5%D0%BC%D0%B8%D0%BD%D0%B0%D1%80_1.ipynb\" target=\"_parent\"><img src=\"https://colab.research.google.com/assets/colab-badge.svg\" alt=\"Open In Colab\"/></a>"
      ]
    },
    {
      "cell_type": "markdown",
      "metadata": {
        "id": "bj_bZaljqTHj"
      },
      "source": [
        "Домашнее задание\n",
        "\n",
        "1) Исследовать зависимость количества скачиваний программного продукта от количества посещений сайта. (на основе данных из [4]).\n",
        "В процессе решения задачи:\n",
        "- вывести математические формулы для поиска коэффициентов для построении линии регрессии;\n",
        "- написать функции для вычисления среднего значения, дисперсии, коэффициента корреляции;\n",
        "- реализовать метод наименьших квадратов.\n",
        "2) Освоение возможностей библиотеки matplotlib [3]: построение линейных графиков "
      ]
    },
    {
      "cell_type": "code",
      "metadata": {
        "id": "7_k9N9BrqVh8"
      },
      "source": [
        "import numpy as np\n",
        "import scipy as sc\n",
        "import matplotlib.pyplot as plt\n",
        "from math import sqrt"
      ],
      "execution_count": 12,
      "outputs": []
    },
    {
      "cell_type": "code",
      "metadata": {
        "colab": {
          "base_uri": "https://localhost:8080/"
        },
        "id": "770LTFlRsTbC",
        "outputId": "162dcc84-606f-4ffe-999c-17d0f900a799"
      },
      "source": [
        "t = np.arange(5, 15)\n",
        "views = np.array([5252, 7620, 941, 1159, 485, 299, 239, 195, 181, 180])\n",
        "regs = np.array([21, 46, 9, 8, 3, 6, 4, 2, 2, 2])\n",
        "regViews100 = np.array([regs[i] / views[i] * 100 for i in range(len(views))])\n",
        "print(regViews100)\n",
        "sumRegs = sum(regs)\n",
        "sumViews = sum(views)\n",
        "print(\"sumRegs = \" + str(sumRegs))\n",
        "print(\"sumViews = \" + str(sumViews))\n",
        "print(\"sumRegs / sumViews * 100 = \" + str(sumRegs / sumViews * 100))"
      ],
      "execution_count": 9,
      "outputs": [
        {
          "output_type": "stream",
          "name": "stdout",
          "text": [
            "[0.39984768 0.60367454 0.95642933 0.69025022 0.6185567  2.00668896\n",
            " 1.67364017 1.02564103 1.10497238 1.11111111]\n",
            "sumRegs = 103\n",
            "sumViews = 16551\n",
            "sumRegs / sumViews * 100 = 0.6223188931182405\n"
          ]
        }
      ]
    },
    {
      "cell_type": "code",
      "metadata": {
        "id": "V2m7-5HgvNSS"
      },
      "source": [
        "def average(a):\n",
        "  \"\"\"\n",
        "  Вычисление среднего в списке.\n",
        "  \"\"\"\n",
        "  return sum(a) / len(a)"
      ],
      "execution_count": 10,
      "outputs": []
    },
    {
      "cell_type": "code",
      "metadata": {
        "id": "Dg9xRTWEvqh6"
      },
      "source": [
        "def dispersion(a):\n",
        "  \"\"\"\n",
        "  Вычисление дисперсии в списке.\n",
        "  \"\"\"\n",
        "  return sum([(el - average(a)) ** 2 for el in a]) / len(a)"
      ],
      "execution_count": 11,
      "outputs": []
    },
    {
      "cell_type": "code",
      "metadata": {
        "id": "LHeGTfVnxSnP"
      },
      "source": [
        "def coefCorrelation(a, b):\n",
        "  \"\"\"\n",
        "  Вычисление коэффициента корреляции между двумя списками.\n",
        "  \"\"\"\n",
        "  return sum([(a[i] - average(a)) * (b[i] - average(b)) for i in range(len(a))]) / (len(a) * sqrt(dispersion(a) * dispersion(b)))"
      ],
      "execution_count": 13,
      "outputs": []
    },
    {
      "cell_type": "code",
      "metadata": {
        "colab": {
          "base_uri": "https://localhost:8080/"
        },
        "id": "1vwqf7NmyZzL",
        "outputId": "cb194bb0-0b6d-40f4-93a3-484c0f716055"
      },
      "source": [
        "print(\"Коэффициент корреляции = \" + str(coefCorrelation(views, regs)))"
      ],
      "execution_count": 16,
      "outputs": [
        {
          "output_type": "stream",
          "name": "stdout",
          "text": [
            "Коэффициент корреляции = 0.9694433977097228\n"
          ]
        }
      ]
    },
    {
      "cell_type": "markdown",
      "metadata": {
        "id": "24ZPZI_RzMRj"
      },
      "source": [
        "Нужно найти коэффициенты A и B в уравнении:\n",
        "A * x + B "
      ]
    },
    {
      "cell_type": "code",
      "metadata": {
        "id": "3hNrJ38h0scN"
      },
      "source": [
        "def helpFunc(a, b):\n",
        "  \"\"\"\n",
        "  Для красоты.\n",
        "  \"\"\"\n",
        "  return sum([a[i] * b[i] for i in range(len(a))]) / len(a)"
      ],
      "execution_count": 17,
      "outputs": []
    },
    {
      "cell_type": "code",
      "metadata": {
        "id": "8piC4LlJzH14"
      },
      "source": [
        "def coefA(a, b):\n",
        "  \"\"\"\n",
        "  Вычисление коэффициента A в линейной регрессии.\n",
        "  \"\"\"\n",
        "  return (average(a) * average(b) - helpFunc(a, b)) / (average(a) ** 2 - helpFunc(a, a))\n"
      ],
      "execution_count": 18,
      "outputs": []
    },
    {
      "cell_type": "code",
      "metadata": {
        "id": "TLJTKdqHzkaM"
      },
      "source": [
        "def coefB(a, b):\n",
        "  \"\"\"\n",
        "  Вычисление коэффициента B в линейной регресии.\n",
        "  \"\"\"\n",
        "  return average(b) - average(a) * coefA(a, b)"
      ],
      "execution_count": 23,
      "outputs": []
    },
    {
      "cell_type": "code",
      "metadata": {
        "colab": {
          "base_uri": "https://localhost:8080/"
        },
        "id": "uji9FfFD1Kq_",
        "outputId": "bb9a2428-58cf-4ce4-d5db-1237772d7c60"
      },
      "source": [
        "A = coefA(views, regs)\n",
        "B = coefB(views, regs)\n",
        "print(\"A = \" + str(A))\n",
        "print(\"B = \" + str(B))"
      ],
      "execution_count": 30,
      "outputs": [
        {
          "output_type": "stream",
          "name": "stdout",
          "text": [
            "A = 0.005140311311538676\n",
            "B = 1.7922707482723386\n"
          ]
        }
      ]
    },
    {
      "cell_type": "code",
      "metadata": {
        "colab": {
          "base_uri": "https://localhost:8080/",
          "height": 279
        },
        "id": "y26ngV8a15dJ",
        "outputId": "7b034eb1-b2a4-4e78-9ba4-866ee34ac296"
      },
      "source": [
        "plt.scatter(views, regs, c='red')\n",
        "xRange = np.arange(min(views), max(views))\n",
        "plt.plot(xRange, np.array(xRange * A + B), c='black')\n",
        "plt.xlabel(\"x\")\n",
        "plt.ylabel(\"y\")\n",
        "plt.show()"
      ],
      "execution_count": 36,
      "outputs": [
        {
          "output_type": "display_data",
          "data": {
            "image/png": "[encoded data removed]",
            "text/plain": [
              "<Figure size 432x288 with 1 Axes>"
            ]
          },
          "metadata": {
            "needs_background": "light"
          }
        }
      ]
    }
  ]
}